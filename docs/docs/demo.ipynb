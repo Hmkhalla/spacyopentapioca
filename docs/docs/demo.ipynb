{
 "cells": [
  {
   "cell_type": "markdown",
   "metadata": {},
   "source": [
    "# Quick start\n",
    "\n",
    "spaCyOpenTapioca is a spaCy pipeline for named entity linking using OpenTapioca"
   ]
  },
  {
   "cell_type": "markdown",
   "metadata": {},
   "source": [
    "First, install spaCyOpenTapioca:"
   ]
  },
  {
   "cell_type": "code",
   "execution_count": 1,
   "metadata": {},
   "outputs": [],
   "source": [
    "!pip install spacyopentapioca"
   ]
  },
  {
   "cell_type": "markdown",
   "metadata": {},
   "source": [
    "Then, import spaCy and add the pipeline `OpenTapioca`:"
   ]
  },
  {
   "cell_type": "code",
   "execution_count": 2,
   "metadata": {},
   "outputs": [
    {
     "name": "stdout",
     "output_type": "stream",
     "text": [
      "('Christian Drosten', 'Q1079331', 'PERSON', 'German virologist and university teacher', 1.7265554428236625)\n",
      "('Charité', 'Q162684', 'ORG', 'university hospital in Berlin, Germany', 1.266987145014507)\n",
      "('Germany', 'Q183', 'LOC', 'sovereign state in Central Europe', 1.0571540026892925)\n"
     ]
    }
   ],
   "source": [
    "import spacy\n",
    "nlp = spacy.blank(\"en\")\n",
    "nlp.add_pipe('opentapioca')\n",
    "doc = nlp(\"Christian Drosten works in Charité, Germany.\")\n",
    "for span in doc.ents:\n",
    "    print((span.text, span.kb_id_, span.label_, span._.description, span._.score))"
   ]
  },
  {
   "cell_type": "markdown",
   "metadata": {},
   "source": [
    "Let's check the raw types and aliases:"
   ]
  },
  {
   "cell_type": "code",
   "execution_count": 3,
   "metadata": {},
   "outputs": [
    {
     "name": "stdout",
     "output_type": "stream",
     "text": [
      "({'Q43229': False, 'Q618123': False, 'Q5': True, 'P2427': False, 'P1566': False, 'P496': True}, ['كريستيان دروستين', 'Крістіан Дростен', 'Christian Heinrich Maria Drosten', 'کریستین دروستن', '크리스티안 드로스텐', '德羅斯登', 'クリスチャン・ドロステン', 'Дростен, Кристиан', 'Кристиан Хайнрих Мария Дростен', 'Кристиан Дростен'])\n",
      "({'Q43229': True, 'Q618123': True, 'Q5': False, 'P2427': True, 'P1566': False, 'P496': False}, ['Шаритэ', 'Charite', 'Hôpital de la Charité', 'Charité - Universitätsmedizin Berlin', 'hôpital universitaire de la Charité de Berlin', 'ospedale della Charité', 'Charite (Berlijn)', 'Charitésjukhuset', 'شاريتيه', 'シャリテ', 'シャリテ＝大学医療・ベルリン', 'Шаріте', 'ospedale universitario della Charité', 'Universitätsmedizin Berlin', 'Charité-ziekenhuis', 'שאריטה', 'ชารีเท', 'Šaritē - Berlīnes Universitātes slimnīca', 'Hôpital de la Charité de Berlin', '샤리테', 'Charité Universitätsmedizin Berlin', 'Charité – University Medicine Berlin', 'Շարիտե', 'Шарите', 'シャリティ', 'シャリテー', 'Caritatis nosocomium', '夏綠蒂教學醫院', 'Charité hospital', 'შარიტე'])\n",
      "({'Q43229': True, 'Q618123': True, 'Q5': False, 'P2427': False, 'P1566': True, 'P496': False}, ['IJalimani', 'R. F. A.', 'Alemania', '도이칠란트', 'Germaniya', 'ܓܪܡܢ', 'Jeremane', 'Heremani', 'IJamani', 'Dwzgoz', 'Vuokītėjė', 'Germania', 'Алман иле', 'Germanie', 'آلمان', 'ਜਰਮਨੀ', 'Jarimani', 'Jermani', 'Almaniya', 'Duutsjlandj', 'جرمني', 'RFG', 'Lanlmangn', 'Duiskka lihttodásseváldi', 'Немачка', 'Yr Almaen', 'Németország', 'ᔮᒪᓂ', 'RFA', 'Almayn', 'de', 'Mjymcy', 'ဂျာမနီနိုင်ငံ', 'Ubudagi', 'Германия', 'Gjermania', 'ФРГ', 'Ubudage', 'Dútslân', 'Německo', 'Spolková republika Německo', 'Gyaaman', 'Федерална република Германия', 'Girmania', 'Germana', 'ئەڵمانیا', 'Jẹ́mánì', 'Repubblica Federale di Germania', 'ཇཱར་མ་ནི་', 'Almaniya Federativ Respublikası', 'Немыч Эл', 'Федеративная Республика Германия', 'Saksa', 'Germuanii', 'Saksāmō', 'ഫെഡറൽ റിപ്പബ്ലിക് ഓഫ്\\u200c ജർമ്മനി', 'Alémani', 'Kelemānia', 'Federal Republic of Germany', 'Đức', 'Nemecko', '𐌸𐌹𐌿𐌳𐌹𐍃𐌺𐌰𐌻𐌰𐌽𐌳', 'Дойчланд', 'Yn Ghermaan', 'Германия Мастор', 'Allemagne', 'Njemačka', 'Alimagna', 'Tiamana', 'જર્મની', 'สหพันธ์สาธารณรัฐเยอรมนี', 'Ниицәтә Немшин Орн', 'Joermani', 'Düütsklound', 'Њемачка', 'Bundesrepublik Deutschland', 'ZRN', 'Němska', 'Almanya Federal Cumhuriyeti', '德国', 'Germaniýa', 'ජර්මනිය', 'An Ghearmáin', 'Gweriniaeth Ffederal yr Almaen', 'Германиә', 'Hāmene', 'NSR', 'Saksa lett-tääʹssväʹlddksa', 'la République fédérale d’Allemagne', 'འཇར་མན།', 'Федератив Республика Германия', 'Allemagna', 'ߊߟߏߡߊ߲ߘߎ߯', 'Ġermanja', 'Nemačka', 'FRG', '🇩🇪', 'Saksanma', 'Dáik-guók', 'Alemaina', 'Vācija', 'Germània', 'ألمانيا', 'Þēodscland', 'Alamagn', 'Düütschland', 'Германія', 'Γερμανία', 'Tek-kok', 'Alimanya', 'Þēodiscland', 'जर्मनी', 'República Federal da Alemanha', 'Német Szövetségi Köztársaság', 'Alemanyi', 'Germâgna', 'Jarmanii', \"République fédérale d'Allemagne\", 'Германие', 'Caama', '독일연방공화국', 'Германие мастор', 'Gjermanie', 'Republica Federal de Alemania', 'ጀርመን', 'Gebundene Cynewīse Þēodisclandes', 'گېرمانىيە', 'אלמאניה', 'Германия Федеративтік Республикасы', 'Alimaña', '德意志聯邦共和國', 'דייטשלאנד', '德意志联邦共和国', 'ФРН', 'Dütschland', '独国', 'Almaañ', 'جمهورية ألمانيا اﻻتحادية', 'Германи', 'Federale Republiek van Duitsland', 'Савезна Република Њемачка', 'Алмания Федератив Җөмһүрияте', 'DE', 'АФР', 'Almanya', 'Jeureuman', 'Dietschlaunt', 'Джэрмэн', 'Deutän', 'Գերմանիա', 'Олмон', 'Béésh Bichʼahii Bikéyah', 'Alemanya', 'Allemangne', 'Jémanị', \"S'aksamaa\", 'Zwězkowa republika Nimska', 'Doichland', 'جمهوری فدرال آلمان', 'Almay', 'អាល្លឺម៉ង់', 'All.', 'Ghjermania', 'Þýskaland', 'Saksan liittotasavalta', 'Германиа', 'IJalimane', 'Girimane', 'Almania', 'Нѣмьци', 'República Federal de Alemania', 'Ҷумҳурии Федералии Олмон', 'Olmoniya', 'Deutschland', '德意志聯邦', 'Федератив Герман Республикасы', 'Alemagne', 'ᎠᏛᏥ', '德意志', 'Almaanya', 'جرمنی', \"dotygu'e\", 'সংযুক্ত প্রজাতন্ত্রী জার্মানি', 'Saksa littotäsiväldi', 'გერმანია', 'Germanujo', 'Jarmalka', 'Jérman', 'ዶይችላንድ', 'ፈደራላዊት ሪፓብሊክ ጀርመን', 'Jermaniya', 'Förbundsrepubliken Tyskland', 'Дојчланд', 'Jamani', 'ଜର୍ମାନୀ', 'Ӂермания', 'မိူင်းၵျႃႇမၼီႇ', 'DEU', 'Duitsland', 'Saksslajânnam lett-tääʹssväʹldd', 'Vokietija', 'Daitschlond', 'SRN', 'Գերմանիայի Դաշնային Հանրապետություն', 'Немечму', 'Lalman', 'République fédérale allemande', 'Германија', 'Алмания', 'Alemanne', \"Ma'evé'ho'éno\", 'Bondsrepubliek', 'Deutxland', 'Deitschland', 'BR Deutschland', 'Jerman', 'Deutsch Liân-pang Kiōng-hô-kok', 'Ομοσπονδιακή Δημοκρατία της Γερμανίας', 'Miemieckô', 'Almanha', 'Týskland', 'செருமனி', 'Nemčija', 'Німеччина', 'Germanio', 'Nimska', 'Bondsrepubliek van Duitsland', 'Saksslajânnam', 'BRD', 'জার্মানি', 'Федеративна Республіка Німеччина', 'ドイツ連邦共和国', '德意志联邦', 'Vuoceja', 'Алманиә', 'ஜெர்மனி', 'Xermanja', 'BR Döüdschlônd', 'Ҷумҳурии Федеролии Олмон', 'Djermani', 'Ghermãnia', 'Doysrikondre', 'Tjüschlönj', 'GER', 'Duutslaand', 'Tet-koet', 'Duutsland', 'გერმანიის ფედერაციული რესპუბლიკა', 'ജർമ്മനി', 'Gërmania', \"A' Ghearmailt\", 'ޖަރުމަނުވިލާތް', '獨逸', 'Duiska', 'Nenāhuatīliztlācatlahtohcāyōtl Alemania', 'Almagne', 'Tyskland', 'Saksamaa', 'Döüdschlônd', 'Tysklaante', 'జర్మనీ', 'Нїмецько', 'ประเทศเยอรมนี', 'Republica Federală Germania', 'Zwjazkowa republika Němska', 'Teutontlālpan', 'Paejes tudësc', 'Ujerumani', 'Alemaña', 'ᱡᱟᱨᱢᱟᱱᱤ', 'Däitschland', 'Forbundsrepublikken Tyskland', 'Герман', 'גרמניה', \"República Federal d'Alemaña\", 'Alimaɲi', 'Alemanha', '德國', 'ドイツ', 'ಜರ್ಮನಿ', 'Нямеччына', '독일', 'Bondsrepubliek Duitsland', 'Bunnäsrebublik Döüdschlônd', 'Alemagna', 'Jamus', 'Siamani', 'Niemcy', 'Алман Федератив Республикасы', 'Герман иле', 'ປະເທດເຢັຽລະມັນ'])\n"
     ]
    }
   ],
   "source": [
    "for span in doc.ents:\n",
    "    print((span._.types, span._.aliases))"
   ]
  },
  {
   "cell_type": "markdown",
   "metadata": {},
   "source": [
    "The Wikidata QIDs are attached to tokens:"
   ]
  },
  {
   "cell_type": "code",
   "execution_count": 4,
   "metadata": {},
   "outputs": [
    {
     "name": "stdout",
     "output_type": "stream",
     "text": [
      "('Christian', 'Q1079331')\n",
      "('Drosten', 'Q1079331')\n",
      "('works', '')\n",
      "('in', '')\n",
      "('Charité', 'Q162684')\n",
      "(',', '')\n",
      "('Germany', 'Q183')\n",
      "('.', '')\n"
     ]
    }
   ],
   "source": [
    "for token in doc:\n",
    "    print((token.text, token.ent_kb_id_))"
   ]
  },
  {
   "cell_type": "markdown",
   "metadata": {},
   "source": [
    "The raw annotations can be found in `doc._.annotations`. Let's check the first one:"
   ]
  },
  {
   "cell_type": "code",
   "execution_count": 5,
   "metadata": {},
   "outputs": [
    {
     "data": {
      "text/plain": [
       "{'start': 0,\n",
       " 'end': 17,\n",
       " 'tags': [{'id': 'Q1079331',\n",
       "   'label': ['Christian Drosten'],\n",
       "   'aliases': ['كريستيان دروستين',\n",
       "    'Крістіан Дростен',\n",
       "    'Christian Heinrich Maria Drosten',\n",
       "    'کریستین دروستن',\n",
       "    '크리스티안 드로스텐',\n",
       "    '德羅斯登',\n",
       "    'クリスチャン・ドロステン',\n",
       "    'Дростен, Кристиан',\n",
       "    'Кристиан Хайнрих Мария Дростен',\n",
       "    'Кристиан Дростен'],\n",
       "   'extra_aliases': ['0000-0001-7923-0519'],\n",
       "   'desc': 'German virologist and university teacher',\n",
       "   'nb_statements': 60,\n",
       "   'nb_sitelinks': 20,\n",
       "   'edges': [6581097,\n",
       "    10905380,\n",
       "    1120501,\n",
       "    1305740,\n",
       "    1205214,\n",
       "    1305740,\n",
       "    10905334,\n",
       "    1546865,\n",
       "    15634281,\n",
       "    1622272,\n",
       "    183,\n",
       "    152171,\n",
       "    617048,\n",
       "    2496385,\n",
       "    162684,\n",
       "    18001597,\n",
       "    2018484,\n",
       "    25413386,\n",
       "    21441764,\n",
       "    4185,\n",
       "    34704877,\n",
       "    64,\n",
       "    586,\n",
       "    188,\n",
       "    1860,\n",
       "    54439832,\n",
       "    87748614,\n",
       "    1713320,\n",
       "    50662,\n",
       "    80011696,\n",
       "    83347119,\n",
       "    5370768,\n",
       "    88072607,\n",
       "    188,\n",
       "    188,\n",
       "    188,\n",
       "    188,\n",
       "    100492007,\n",
       "    913404,\n",
       "    100492007,\n",
       "    50662,\n",
       "    1650888,\n",
       "    100494914,\n",
       "    121594,\n",
       "    100494914],\n",
       "   'types': {'Q43229': False,\n",
       "    'Q618123': False,\n",
       "    'Q5': True,\n",
       "    'P2427': False,\n",
       "    'P1566': False,\n",
       "    'P496': True},\n",
       "   'rank': 2.5493406926414757,\n",
       "   'score': 1.7265554428236625,\n",
       "   'valid': None}],\n",
       " 'best_qid': 'Q1079331',\n",
       " 'log_likelihood': 27.46346902911082}"
      ]
     },
     "execution_count": 5,
     "metadata": {},
     "output_type": "execute_result"
    }
   ],
   "source": [
    "doc._.annotations[0]"
   ]
  },
  {
   "cell_type": "markdown",
   "metadata": {},
   "source": [
    "The partial metadata for the response returned by the OpenTapioca API:"
   ]
  },
  {
   "cell_type": "code",
   "execution_count": 6,
   "metadata": {},
   "outputs": [
    {
     "data": {
      "text/plain": [
       "{'status_code': 200, 'reason': 'OK', 'ok': True, 'encoding': 'utf-8'}"
      ]
     },
     "execution_count": 6,
     "metadata": {},
     "output_type": "execute_result"
    }
   ],
   "source": [
    "doc._.metadata"
   ]
  },
  {
   "cell_type": "markdown",
   "metadata": {},
   "source": [
    "Spans have `span._.annotations` and `span._.aliases` extensions. Usually they have a lot of data. Let's print the rest of span extensions:"
   ]
  },
  {
   "cell_type": "code",
   "execution_count": 7,
   "metadata": {},
   "outputs": [
    {
     "name": "stdout",
     "output_type": "stream",
     "text": [
      "sovereign state in Central Europe\n",
      "16.722767013369445\n",
      "1.0571540026892925\n",
      "{'Q43229': True, 'Q618123': True, 'Q5': False, 'P2427': False, 'P1566': True, 'P496': False}\n",
      "['Germany']\n",
      "None\n",
      "367\n",
      "1028\n"
     ]
    }
   ],
   "source": [
    "print(span._.description)\n",
    "print(span._.rank)\n",
    "print(span._.score)\n",
    "print(span._.types)\n",
    "print(span._.label)\n",
    "print(span._.extra_aliases)\n",
    "print(span._.nb_sitelinks)\n",
    "print(span._.nb_statements)"
   ]
  },
  {
   "cell_type": "markdown",
   "metadata": {},
   "source": [
    "Now we can vizualize the results"
   ]
  },
  {
   "cell_type": "code",
   "execution_count": 8,
   "metadata": {},
   "outputs": [
    {
     "data": {
      "text/html": [
       "<span class=\"tex2jax_ignore\"><div class=\"entities\" style=\"line-height: 2.5; direction: ltr\">\n",
       "<mark class=\"entity\" style=\"background: #aa9cfc; padding: 0.45em 0.6em; margin: 0 0.25em; line-height: 1; border-radius: 0.35em;\">\n",
       "    Christian Drosten\n",
       "    <span style=\"font-size: 0.8em; font-weight: bold; line-height: 1; border-radius: 0.35em; vertical-align: middle; margin-left: 0.5rem\">PERSON\n",
       "    <a style=\"text-decoration: none; color: black; font-weight: bold\" href=\"https://www.wikidata.org/entity/Q1079331\">Q1079331</a>\n",
       "    </span>\n",
       "</mark>\n",
       " works in \n",
       "<mark class=\"entity\" style=\"background: #7aecec; padding: 0.45em 0.6em; margin: 0 0.25em; line-height: 1; border-radius: 0.35em;\">\n",
       "    Charité\n",
       "    <span style=\"font-size: 0.8em; font-weight: bold; line-height: 1; border-radius: 0.35em; vertical-align: middle; margin-left: 0.5rem\">ORG\n",
       "    <a style=\"text-decoration: none; color: black; font-weight: bold\" href=\"https://www.wikidata.org/entity/Q162684\">Q162684</a>\n",
       "    </span>\n",
       "</mark>\n",
       ", \n",
       "<mark class=\"entity\" style=\"background: #ff9561; padding: 0.45em 0.6em; margin: 0 0.25em; line-height: 1; border-radius: 0.35em;\">\n",
       "    Germany\n",
       "    <span style=\"font-size: 0.8em; font-weight: bold; line-height: 1; border-radius: 0.35em; vertical-align: middle; margin-left: 0.5rem\">LOC\n",
       "    <a style=\"text-decoration: none; color: black; font-weight: bold\" href=\"https://www.wikidata.org/entity/Q183\">Q183</a>\n",
       "    </span>\n",
       "</mark>\n",
       ".</div></span>"
      ],
      "text/plain": [
       "<IPython.core.display.HTML object>"
      ]
     },
     "metadata": {},
     "output_type": "display_data"
    }
   ],
   "source": [
    "params = {\"text\": doc.text,\n",
    "          \"ents\": [{\"start\": ent.start_char,\n",
    "                    \"end\": ent.end_char,\n",
    "                    \"label\": ent.label_,\n",
    "                    \"kb_id\": ent.kb_id_,\n",
    "                    \"kb_url\": \"https://www.wikidata.org/entity/\" + ent.kb_id_} \n",
    "                   for ent in doc.ents],\n",
    "          \"title\": None}\n",
    "spacy.displacy.render(params, style=\"ent\", manual=True)"
   ]
  }
 ],
 "metadata": {
  "kernelspec": {
   "display_name": "Python 3",
   "language": "python",
   "name": "python3"
  },
  "language_info": {
   "codemirror_mode": {
    "name": "ipython",
    "version": 3
   },
   "file_extension": ".py",
   "mimetype": "text/x-python",
   "name": "python",
   "nbconvert_exporter": "python",
   "pygments_lexer": "ipython3",
   "version": "3.7.6"
  }
 },
 "nbformat": 4,
 "nbformat_minor": 5
}
